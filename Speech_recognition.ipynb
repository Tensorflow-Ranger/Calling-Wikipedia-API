{
  "nbformat": 4,
  "nbformat_minor": 0,
  "metadata": {
    "colab": {
      "name": "Speech_recognition.ipynb",
      "provenance": [],
      "collapsed_sections": [],
      "authorship_tag": "ABX9TyM0oX903dIAbUO1Lg0r7rVu",
      "include_colab_link": true
    },
    "kernelspec": {
      "name": "python3",
      "display_name": "Python 3"
    },
    "accelerator": "GPU"
  },
  "cells": [
    {
      "cell_type": "markdown",
      "metadata": {
        "id": "view-in-github",
        "colab_type": "text"
      },
      "source": [
        "<a href=\"https://colab.research.google.com/github/Tensorflow-Ranger/Calling-Wikipedia-API/blob/master/Speech_recognition.ipynb\" target=\"_parent\"><img src=\"https://colab.research.google.com/assets/colab-badge.svg\" alt=\"Open In Colab\"/></a>"
      ]
    },
    {
      "cell_type": "code",
      "metadata": {
        "id": "U_1EKTnXQwjx",
        "colab_type": "code",
        "colab": {}
      },
      "source": [
        "import json\n",
        "import numpy as np\n",
        "import tensorflow as tf\n",
        "import matplotlib.pyplot as plt\n",
        "from sklearn.model_selection import train_test_split\n",
        "import librosa\n",
        "import ffmpeg"
      ],
      "execution_count": 55,
      "outputs": []
    },
    {
      "cell_type": "code",
      "metadata": {
        "id": "irhqxUxc2Gph",
        "colab_type": "code",
        "colab": {}
      },
      "source": [
        "from pydrive.auth import GoogleAuth\n",
        "from pydrive.drive import GoogleDrive\n",
        "from google.colab import auth\n",
        "from oauth2client.client import GoogleCredentials\n",
        "# Authenticate and create the PyDrive client.\n",
        "auth.authenticate_user()\n",
        "gauth = GoogleAuth()\n",
        "gauth.credentials = GoogleCredentials.get_application_default()\n",
        "drive = GoogleDrive(gauth)\n",
        "\n",
        "link = 'https://drive.google.com/file/d/1AdJoE9b_lXeoQIo06RZtqMCkJ6txN4Kd/view?usp=sharing'\n",
        "id = link.split(\"/\")[5]\n",
        "\n",
        "link2 = \"https://drive.google.com/file/d/1RfqwPj1mGgy7wctZ7atBAIpg3FITMFf-/view?usp=sharing\"\n",
        "id2 = link.split(\"/\")[5]\n",
        "downloaded = drive.CreateFile({'id':id2}) \n",
        "downloaded.GetContentFile('piano_B4_resampled - Copy (3).wavTimeStrech')  "
      ],
      "execution_count": 50,
      "outputs": []
    },
    {
      "cell_type": "code",
      "metadata": {
        "id": "F1Pcurh2Qfj4",
        "colab_type": "code",
        "colab": {}
      },
      "source": [
        "def load_data(data_path):\n",
        "    with open(data_path, \"r\") as fp:\n",
        "        data = json.load(fp)\n",
        "\n",
        "    X = np.array(data[\"MFCCs\"])\n",
        "    y = np.array(data[\"labels\"])\n",
        "    print(\"Training sets loaded!\")\n",
        "    return X, y\n",
        "\n",
        "\n",
        "def prepare_dataset(data_path, test_size=0.2, validation_size=0.2):\n",
        "    global X_test\n",
        "    # load dataset\n",
        "    X, y = load_data(data_path)\n",
        "\n",
        "    # create train, validation, test split\n",
        "    X_train, X_test, y_train, y_test = train_test_split(X, y, test_size=test_size)\n",
        "    X_train, X_validation, y_train, y_validation = train_test_split(X_train, y_train, test_size=validation_size)\n",
        "    return X_train, y_train, X_validation, y_validation, X_test, y_test\n"
      ],
      "execution_count": 41,
      "outputs": []
    },
    {
      "cell_type": "code",
      "metadata": {
        "id": "XVXLQn__3LAy",
        "colab_type": "code",
        "colab": {}
      },
      "source": [
        "DATA_PATH = \"data.json\"\n",
        "SAVED_MODEL_PATH = \"model.h5\"\n",
        "EPOCHS = 100\n",
        "BATCH_SIZE = 2\n",
        "PATIENCE = 5\n",
        "LEARNING_RATE = 0.0001\n",
        "loss= \"sparse_categorical_crossentropy\"\n",
        "learning_rate=0.0001\n",
        "\n",
        "model = tf.keras.models.Sequential()\n",
        "model.add(tf.keras.layers.LSTM(64, input_shape=input_shape, return_sequences=True))\n",
        "model.add(tf.keras.layers.LSTM(64))\n",
        "model.add(tf.keras.layers.Dense(64, activation=\"relu\"))\n",
        "model.add(tf.keras.layers.Dropout(0.3))\n",
        "model.add(tf.keras.layers.Dense(10, activation='softmax'))"
      ],
      "execution_count": 43,
      "outputs": []
    },
    {
      "cell_type": "code",
      "metadata": {
        "id": "TvIrceztGJsk",
        "colab_type": "code",
        "colab": {
          "base_uri": "https://localhost:8080/",
          "height": 329
        },
        "outputId": "4aa952a0-7e1d-481d-aebc-d16f8bfcccc2"
      },
      "source": [
        "optimiser = tf.optimizers.Adam(learning_rate=learning_rate)\n",
        "model.compile(optimizer=optimiser,loss=loss,metrics=[\"accuracy\"])\n",
        "\n",
        "model.summary()"
      ],
      "execution_count": 44,
      "outputs": [
        {
          "output_type": "stream",
          "text": [
            "Model: \"sequential_4\"\n",
            "_________________________________________________________________\n",
            "Layer (type)                 Output Shape              Param #   \n",
            "=================================================================\n",
            "lstm_6 (LSTM)                (None, 44, 64)            19968     \n",
            "_________________________________________________________________\n",
            "lstm_7 (LSTM)                (None, 64)                33024     \n",
            "_________________________________________________________________\n",
            "dense_6 (Dense)              (None, 64)                4160      \n",
            "_________________________________________________________________\n",
            "dropout_3 (Dropout)          (None, 64)                0         \n",
            "_________________________________________________________________\n",
            "dense_7 (Dense)              (None, 10)                650       \n",
            "=================================================================\n",
            "Total params: 57,802\n",
            "Trainable params: 57,802\n",
            "Non-trainable params: 0\n",
            "_________________________________________________________________\n"
          ],
          "name": "stdout"
        }
      ]
    },
    {
      "cell_type": "code",
      "metadata": {
        "id": "ebfTYL7mQ_Mv",
        "colab_type": "code",
        "colab": {}
      },
      "source": [
        "def train(model, epochs, batch_size, patience, X_train, y_train, X_validation, y_validation):\n",
        "    earlystop_callback = tf.keras.callbacks.EarlyStopping(monitor=\"accuracy\", min_delta=0.001, patience=patience)\n",
        "\n",
        "    history = model.fit(X_train,\n",
        "                        y_train,\n",
        "                        epochs=epochs,\n",
        "                        batch_size=batch_size,\n",
        "                        validation_data=(X_validation, y_validation),\n",
        "                        callbacks=[earlystop_callback])\n",
        "    return history"
      ],
      "execution_count": 45,
      "outputs": []
    },
    {
      "cell_type": "code",
      "metadata": {
        "id": "Czd4hkBvREVl",
        "colab_type": "code",
        "colab": {}
      },
      "source": [
        "def plot_history(history):\n",
        "    fig, axs = plt.subplots(2)\n",
        "\n",
        "    # create accuracy subplot\n",
        "    axs[0].plot(history.history[\"accuracy\"], label=\"accuracy\")\n",
        "    axs[0].plot(history.history['val_accuracy'], label=\"val_accuracy\")\n",
        "    axs[0].set_ylabel(\"Accuracy\")\n",
        "    axs[0].legend(loc=\"lower right\")\n",
        "    axs[0].set_title(\"Accuracy evaluation\")\n",
        "\n",
        "    # create loss subplot\n",
        "    axs[1].plot(history.history[\"loss\"], label=\"loss\")\n",
        "    axs[1].plot(history.history['val_loss'], label=\"val_loss\")\n",
        "    axs[1].set_xlabel(\"Epoch\")\n",
        "    axs[1].set_ylabel(\"Loss\")\n",
        "    axs[1].legend(loc=\"upper right\")\n",
        "    axs[1].set_title(\"Loss evaluation\")\n",
        "\n",
        "    plt.show()\n"
      ],
      "execution_count": 46,
      "outputs": []
    },
    {
      "cell_type": "code",
      "metadata": {
        "id": "C7jKx13M-VdB",
        "colab_type": "code",
        "colab": {}
      },
      "source": [
        "def predict(model,X,):\n",
        "  X = X[np.newaxis,...]\n",
        "  prediction = model.predict(X)\n",
        "  predicted_index = np.argmax(prediction, axis=1)\n",
        "  print(predicted_index)"
      ],
      "execution_count": 48,
      "outputs": []
    },
    {
      "cell_type": "code",
      "metadata": {
        "id": "jnjhWYiARO_v",
        "colab_type": "code",
        "colab": {
          "base_uri": "https://localhost:8080/",
          "height": 850
        },
        "outputId": "43d958bf-a4ea-461b-bf27-6640b7bbce5d"
      },
      "source": [
        "X_train, y_train, X_validation, y_validation, X_test, y_test = prepare_dataset(DATA_PATH)\n",
        "print(X_train.shape,y_train.shape, X_validation.shape, y_validation.shape, X_test.shape, y_test.shape)\n",
        "\n",
        "input_shape = (X_train.shape[1], X_train.shape[2])\n",
        "\n",
        "history = train(model, EPOCHS, BATCH_SIZE, PATIENCE, X_train, y_train, X_validation, y_validation)\n",
        "\n",
        "plot_history(history)\n",
        "\n",
        "test_loss, test_acc = model.evaluate(X_test, y_test)\n",
        "print(\"\\nTest loss: {}, test accuracy: {}\".format(test_loss, 100*test_acc))\n",
        "\n",
        "X = X_test[100]\n",
        "predict(model,X)\n",
        "\n",
        "\n",
        "model.save(SAVED_MODEL_PATH)"
      ],
      "execution_count": 49,
      "outputs": [
        {
          "output_type": "stream",
          "text": [
            "Training sets loaded!\n",
            "(1984, 44, 13) (1984,) (496, 44, 13) (496,) (620, 44, 13) (620,)\n",
            "Epoch 1/100\n",
            "992/992 [==============================] - 8s 8ms/step - loss: 0.0696 - accuracy: 0.9839 - val_loss: 0.0619 - val_accuracy: 0.9819\n",
            "Epoch 2/100\n",
            "992/992 [==============================] - 8s 8ms/step - loss: 0.0415 - accuracy: 0.9914 - val_loss: 0.0472 - val_accuracy: 0.9819\n",
            "Epoch 3/100\n",
            "992/992 [==============================] - 8s 8ms/step - loss: 0.0306 - accuracy: 0.9934 - val_loss: 0.0390 - val_accuracy: 0.9859\n",
            "Epoch 4/100\n",
            "992/992 [==============================] - 8s 8ms/step - loss: 0.0286 - accuracy: 0.9924 - val_loss: 0.0255 - val_accuracy: 0.9899\n",
            "Epoch 5/100\n",
            "992/992 [==============================] - 8s 8ms/step - loss: 0.0186 - accuracy: 0.9960 - val_loss: 0.0214 - val_accuracy: 0.9940\n",
            "Epoch 6/100\n",
            "992/992 [==============================] - 8s 8ms/step - loss: 0.0127 - accuracy: 0.9980 - val_loss: 0.0123 - val_accuracy: 1.0000\n",
            "Epoch 7/100\n",
            "992/992 [==============================] - 8s 8ms/step - loss: 0.0124 - accuracy: 0.9975 - val_loss: 0.0102 - val_accuracy: 1.0000\n",
            "Epoch 8/100\n",
            "992/992 [==============================] - 8s 8ms/step - loss: 0.0056 - accuracy: 0.9995 - val_loss: 0.0071 - val_accuracy: 1.0000\n",
            "Epoch 9/100\n",
            "992/992 [==============================] - 8s 8ms/step - loss: 0.0049 - accuracy: 1.0000 - val_loss: 0.0077 - val_accuracy: 0.9960\n",
            "Epoch 10/100\n",
            "992/992 [==============================] - 8s 8ms/step - loss: 0.0182 - accuracy: 0.9940 - val_loss: 0.0172 - val_accuracy: 0.9940\n",
            "Epoch 11/100\n",
            "992/992 [==============================] - 8s 8ms/step - loss: 0.0173 - accuracy: 0.9970 - val_loss: 0.0131 - val_accuracy: 0.9960\n",
            "Epoch 12/100\n",
            "992/992 [==============================] - 8s 8ms/step - loss: 0.0033 - accuracy: 1.0000 - val_loss: 0.0124 - val_accuracy: 0.9960\n",
            "Epoch 13/100\n",
            "992/992 [==============================] - 8s 8ms/step - loss: 0.0023 - accuracy: 1.0000 - val_loss: 0.0105 - val_accuracy: 0.9960\n"
          ],
          "name": "stdout"
        },
        {
          "output_type": "display_data",
          "data": {
            "image/png": "[encoded data removed]",
            "text/plain": [
              "<Figure size 432x288 with 2 Axes>"
            ]
          },
          "metadata": {
            "tags": [],
            "needs_background": "light"
          }
        },
        {
          "output_type": "stream",
          "text": [
            "20/20 [==============================] - 0s 5ms/step - loss: 0.0090 - accuracy: 0.9968\n",
            "\n",
            "Test loss: 0.008956434205174446, test accuracy: 99.67741966247559\n",
            "[6]\n"
          ],
          "name": "stdout"
        }
      ]
    },
    {
      "cell_type": "code",
      "metadata": {
        "id": "TfxHSjPX9fNB",
        "colab_type": "code",
        "colab": {}
      },
      "source": [
        "from google.colab import files\n",
        "files.download('model.h5')"
      ],
      "execution_count": 68,
      "outputs": []
    },
    {
      "cell_type": "code",
      "metadata": {
        "id": "m-GkzBBiB3q-",
        "colab_type": "code",
        "colab": {}
      },
      "source": [
        "def create_silence():\n",
        "  path='piano_B4_resampled - Copy (3).wavTimeStrech' \n",
        "  maxv = np.iinfo(np.int16).max\n",
        "  sounds = [x[len(DB):] for x in glob.glob(path+ '*.wav')]\n",
        "  for elem in sounds:\n",
        "    sound=elem.split('\\\\')[1]\n",
        "    print(sound)\n",
        "    for j,i in enumerate(np.arange(0.0, 59.0, 0.3)):\n",
        "        y, fs=librosa.load(DB+elem, sr=None, offset=i, duration=1.0, mono=False)\n",
        "        librosa.output.write_wav(DB+'silence/'+str(j)+sound, y=(y*maxv).astype(np.int16), sr=fs, norm=False)"
      ],
      "execution_count": 62,
      "outputs": []
    },
    {
      "cell_type": "code",
      "metadata": {
        "id": "MxZkvHU6J35w",
        "colab_type": "code",
        "colab": {
          "base_uri": "https://localhost:8080/",
          "height": 52
        },
        "outputId": "f43f75ec-4372-4728-df1a-325a16e3558c"
      },
      "source": [
        "!dir"
      ],
      "execution_count": 64,
      "outputs": [
        {
          "output_type": "stream",
          "text": [
            "adc.json   model.h5\t\t\t\t\t   sample_data\n",
            "data.json  piano_B4_resampled\\ -\\ Copy\\ (3).wavTimeStrech\n"
          ],
          "name": "stdout"
        }
      ]
    },
    {
      "cell_type": "code",
      "metadata": {
        "id": "Qlz0sNDEIiMC",
        "colab_type": "code",
        "colab": {
          "base_uri": "https://localhost:8080/",
          "height": 277
        },
        "outputId": "522dd360-8d7d-4754-a76e-7a04ddab27b9"
      },
      "source": [
        "signal, sample_rate = librosa.load('piano_B4_resampled - Copy (3).wavTimeStrech')"
      ],
      "execution_count": 67,
      "outputs": [
        {
          "output_type": "error",
          "ename": "NoBackendError",
          "evalue": "ignored",
          "traceback": [
            "\u001b[0;31m---------------------------------------------------------------------------\u001b[0m",
            "\u001b[0;31mNoBackendError\u001b[0m                            Traceback (most recent call last)",
            "\u001b[0;32m<ipython-input-67-4f1f530a5532>\u001b[0m in \u001b[0;36m<module>\u001b[0;34m()\u001b[0m\n\u001b[0;32m----> 1\u001b[0;31m \u001b[0msignal\u001b[0m\u001b[0;34m,\u001b[0m \u001b[0msample_rate\u001b[0m \u001b[0;34m=\u001b[0m \u001b[0mlibrosa\u001b[0m\u001b[0;34m.\u001b[0m\u001b[0mload\u001b[0m\u001b[0;34m(\u001b[0m\u001b[0;34m'piano_B4_resampled - Copy (3).wavTimeStrech'\u001b[0m\u001b[0;34m)\u001b[0m\u001b[0;34m\u001b[0m\u001b[0;34m\u001b[0m\u001b[0m\n\u001b[0m",
            "\u001b[0;32m/usr/local/lib/python3.6/dist-packages/librosa/core/audio.py\u001b[0m in \u001b[0;36mload\u001b[0;34m(path, sr, mono, offset, duration, dtype, res_type)\u001b[0m\n\u001b[1;32m    117\u001b[0m \u001b[0;34m\u001b[0m\u001b[0m\n\u001b[1;32m    118\u001b[0m     \u001b[0my\u001b[0m \u001b[0;34m=\u001b[0m \u001b[0;34m[\u001b[0m\u001b[0;34m]\u001b[0m\u001b[0;34m\u001b[0m\u001b[0;34m\u001b[0m\u001b[0m\n\u001b[0;32m--> 119\u001b[0;31m     \u001b[0;32mwith\u001b[0m \u001b[0maudioread\u001b[0m\u001b[0;34m.\u001b[0m\u001b[0maudio_open\u001b[0m\u001b[0;34m(\u001b[0m\u001b[0mos\u001b[0m\u001b[0;34m.\u001b[0m\u001b[0mpath\u001b[0m\u001b[0;34m.\u001b[0m\u001b[0mrealpath\u001b[0m\u001b[0;34m(\u001b[0m\u001b[0mpath\u001b[0m\u001b[0;34m)\u001b[0m\u001b[0;34m)\u001b[0m \u001b[0;32mas\u001b[0m \u001b[0minput_file\u001b[0m\u001b[0;34m:\u001b[0m\u001b[0;34m\u001b[0m\u001b[0;34m\u001b[0m\u001b[0m\n\u001b[0m\u001b[1;32m    120\u001b[0m         \u001b[0msr_native\u001b[0m \u001b[0;34m=\u001b[0m \u001b[0minput_file\u001b[0m\u001b[0;34m.\u001b[0m\u001b[0msamplerate\u001b[0m\u001b[0;34m\u001b[0m\u001b[0;34m\u001b[0m\u001b[0m\n\u001b[1;32m    121\u001b[0m         \u001b[0mn_channels\u001b[0m \u001b[0;34m=\u001b[0m \u001b[0minput_file\u001b[0m\u001b[0;34m.\u001b[0m\u001b[0mchannels\u001b[0m\u001b[0;34m\u001b[0m\u001b[0;34m\u001b[0m\u001b[0m\n",
            "\u001b[0;32m/usr/local/lib/python3.6/dist-packages/audioread/__init__.py\u001b[0m in \u001b[0;36maudio_open\u001b[0;34m(path, backends)\u001b[0m\n\u001b[1;32m    114\u001b[0m \u001b[0;34m\u001b[0m\u001b[0m\n\u001b[1;32m    115\u001b[0m     \u001b[0;31m# All backends failed!\u001b[0m\u001b[0;34m\u001b[0m\u001b[0;34m\u001b[0m\u001b[0;34m\u001b[0m\u001b[0m\n\u001b[0;32m--> 116\u001b[0;31m     \u001b[0;32mraise\u001b[0m \u001b[0mNoBackendError\u001b[0m\u001b[0;34m(\u001b[0m\u001b[0;34m)\u001b[0m\u001b[0;34m\u001b[0m\u001b[0;34m\u001b[0m\u001b[0m\n\u001b[0m",
            "\u001b[0;31mNoBackendError\u001b[0m: "
          ]
        }
      ]
    },
    {
      "cell_type": "code",
      "metadata": {
        "id": "X-OJT_4BKEQw",
        "colab_type": "code",
        "colab": {}
      },
      "source": [
        ""
      ],
      "execution_count": null,
      "outputs": []
    }
  ]
}