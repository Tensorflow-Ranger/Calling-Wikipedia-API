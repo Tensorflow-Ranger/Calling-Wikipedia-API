{
 "cells": [
  {
   "cell_type": "code",
   "execution_count": 5,
   "metadata": {},
   "outputs": [
    {
     "name": "stdout",
     "output_type": "stream",
     "text": [
      "{'query': {'searchinfo': {'totalhits': 238}, 'search': [{'size': 23826, 'wordcount': 1861, 'timestamp': '2019-11-03T06:28:56Z', 'title': 'Craig Noone', 'snippet': '<span class=\"searchmatch\">Craig</span> Stephen <span class=\"searchmatch\">Noone</span> (born 17 November 1987) is an English professional footballer who plays as a winger for Melbourne City. Born in Kirkby, he has also', 'ns': 0, 'pageid': 18846922}, {'size': 687, 'wordcount': 80, 'timestamp': '2019-07-20T21:34:07Z', 'title': 'Noone', 'snippet': '<span class=\"searchmatch\">Noone</span> is a surname that may refer to: Val <span class=\"searchmatch\">Noone</span> (born 1944), Australian Author, Social activist, Academic, Historian <span class=\"searchmatch\">Craig</span> <span class=\"searchmatch\">Noone</span> (born 1987), English football', 'ns': 0, 'pageid': 32906333}, {'size': 2831, 'wordcount': 149, 'timestamp': '2019-09-17T10:52:48Z', 'title': 'Ronan Darcy', 'snippet': 'Darcy made his senior debut, coming on as a second half substitute for <span class=\"searchmatch\">Craig</span> <span class=\"searchmatch\">Noone</span> in Bolton\\'s final game of the 2018–19 season away to Nottingham Forest', 'ns': 0, 'pageid': 61196370}, {'size': 14486, 'wordcount': 754, 'timestamp': '2019-11-23T10:33:21Z', 'title': '2019 FFA Cup Final', 'snippet': 'SA club Campbelltown City in Adelaide. Goals from Jamie Maclaren and <span class=\"searchmatch\">Craig</span> <span class=\"searchmatch\">Noone</span> saw Melbourne City victorious by a margin of 3–1. In the round of 16', 'ns': 0, 'pageid': 61146333}, {'size': 3411, 'wordcount': 200, 'timestamp': '2019-11-10T16:45:47Z', 'title': 'Joe Pritchard (footballer, born 1996)', 'snippet': '2019 against Preston North End coming on in the 77th minute in place of <span class=\"searchmatch\">Craig</span> <span class=\"searchmatch\">Noone</span>. On 30 May 2019, Pritchard joined Accrington Stanley on a two-year deal', 'ns': 0, 'pageid': 57494975}, {'size': 50110, 'wordcount': 1539, 'timestamp': '2019-12-02T08:06:15Z', 'title': '2019–20 A-League', 'snippet': 'Đurić Kim Eun-sun Gianni Stensness2 Melbourne City Richard Windbichler <span class=\"searchmatch\">Craig</span> <span class=\"searchmatch\">Noone</span> Florin Berenguer Javier Cabrera Adrián Luna Melbourne Victory Migjen', 'ns': 0, 'pageid': 60003814}, {'size': 13442, 'wordcount': 907, 'timestamp': '2019-09-24T22:24:05Z', 'title': 'Declan John', 'snippet': '0–0 Cardiff City&quot;. BBC Sport. 6 August 2016. Retrieved 6 August 2016. &quot;<span class=\"searchmatch\">Craig</span> <span class=\"searchmatch\">Noone</span> and Declan John set to leave Cardiff City, says boss Neil Warnock&quot;. BBC', 'ns': 0, 'pageid': 36748433}, {'size': 30717, 'wordcount': 2395, 'timestamp': '2019-11-30T23:20:28Z', 'title': 'Lloyd Dyer', 'snippet': 'October 2018 against Blackburn Rovers as a second half substitute for <span class=\"searchmatch\">Craig</span> <span class=\"searchmatch\">Noone</span>. On 25 September 2019, Dyer returned to Burton Albion signing a short-term', 'ns': 0, 'pageid': 3638384}, {'size': 23838, 'wordcount': 1828, 'timestamp': '2019-11-30T21:22:54Z', 'title': 'Kazenga LuaLua', 'snippet': 'Liverpool as Brighton lost 6–1. With competition from fellow wingers <span class=\"searchmatch\">Craig</span> <span class=\"searchmatch\">Noone</span>, Will Buckley and Vicente, LuaLua swapped between starting and coming', 'ns': 0, 'pageid': 15186080}, {'size': 8640, 'wordcount': 475, 'timestamp': '2019-10-26T18:57:11Z', 'title': 'Ibrahim Meite (footballer)', 'snippet': 'January 2017, making his debut for the club as a substitute in place of <span class=\"searchmatch\">Craig</span> <span class=\"searchmatch\">Noone</span> during a 0–0 draw with Wigan Athletic on 22 April 2017. On 25 August', 'ns': 0, 'pageid': 52799718}]}, 'batchcomplete': '', 'continue': {'sroffset': 10, 'continue': '-||'}}\n"
     ]
    }
   ],
   "source": [
    "#importing the libraries\n",
    "import requests as r\n",
    "import json\n",
    "# sending the request\n",
    "Request = r.get(\"https://en.wikipedia.org/w/api.php?action=query&list=search&srsearch=Craig%20Noone&format=json\")\n",
    "web = Request.text\n",
    "#converting the json to a python dictionary\n",
    "output = json.loads(web)\n",
    "print(output)\n",
    "type(output)"
   ]
  }
 ],
 "metadata": {
  "kernelspec": {
   "display_name": "Python 3",
   "language": "python",
   "name": "python3"
  },
  "language_info": {
   "codemirror_mode": {
    "name": "ipython",
    "version": 3
   },
   "file_extension": ".py",
   "mimetype": "text/x-python",
   "name": "python",
   "nbconvert_exporter": "python",
   "pygments_lexer": "ipython3",
   "version": "3.5.6"
  }
 },
 "nbformat": 4,
 "nbformat_minor": 2
}
